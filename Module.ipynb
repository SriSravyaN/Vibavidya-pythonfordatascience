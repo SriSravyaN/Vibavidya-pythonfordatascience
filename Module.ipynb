{
  "nbformat": 4,
  "nbformat_minor": 0,
  "metadata": {
    "colab": {
      "name": "Module.ipynb",
      "provenance": []
    },
    "kernelspec": {
      "name": "python3",
      "display_name": "Python 3"
    }
  },
  "cells": [
    {
      "cell_type": "markdown",
      "metadata": {
        "id": "1fMRVMuXbGQy",
        "colab_type": "text"
      },
      "source": [
        "## Module\n",
        "\n",
        "A file containing a set of functions you want to include in your application.\n",
        "\n",
        "Module can also contain also variables of all types (arrays, dictionaries, objects etc)."
      ]
    },
    {
      "cell_type": "markdown",
      "metadata": {
        "id": "jj49zdgXbLp_",
        "colab_type": "text"
      },
      "source": [
        "##Create a Module\n",
        "To create a module just save the code you want in a file with the file extension .py\n",
        "\n",
        "syntax: module_name.py"
      ]
    },
    {
      "cell_type": "markdown",
      "metadata": {
        "id": "fatwfdQPbY3D",
        "colab_type": "text"
      },
      "source": [
        "Save this code in for ex: \"mymodule.py\""
      ]
    },
    {
      "cell_type": "code",
      "metadata": {
        "id": "T7noqw_AbFGP",
        "colab_type": "code",
        "colab": {}
      },
      "source": [
        "def greeting(name):\n",
        "  print(\"Hello, \" + name)"
      ],
      "execution_count": null,
      "outputs": []
    },
    {
      "cell_type": "markdown",
      "metadata": {
        "id": "4hRNqy2abXEo",
        "colab_type": "text"
      },
      "source": [
        "## Use a Module\n",
        "Now we can use the module we just created, by using the import statement:\n",
        "\n",
        "### syntax:\n",
        " module_name.function_name\n",
        "\n",
        "###Example\n",
        "Import the module named mymodule, and call the greeting function:"
      ]
    },
    {
      "cell_type": "code",
      "metadata": {
        "id": "OVUqKeZcbooa",
        "colab_type": "code",
        "colab": {}
      },
      "source": [
        "import mymodule\n",
        "\n",
        "mymodule.greeting(\"Jonathan\")"
      ],
      "execution_count": null,
      "outputs": []
    },
    {
      "cell_type": "markdown",
      "metadata": {
        "id": "HAnqvdsFcTu_",
        "colab_type": "text"
      },
      "source": [
        "Module containing variables:"
      ]
    },
    {
      "cell_type": "markdown",
      "metadata": {
        "id": "f-8GDn2hcbaK",
        "colab_type": "text"
      },
      "source": [
        "Save this code in the file mymodule1.py"
      ]
    },
    {
      "cell_type": "code",
      "metadata": {
        "id": "nrY7JE2hcWY6",
        "colab_type": "code",
        "colab": {}
      },
      "source": [
        "person1 = {\n",
        "  \"name\": \"John\",\n",
        "  \"age\": 36,\n",
        "  \"country\": \"Norway\"\n",
        "}"
      ],
      "execution_count": null,
      "outputs": []
    },
    {
      "cell_type": "markdown",
      "metadata": {
        "id": "Ic5MQvDJcl8U",
        "colab_type": "text"
      },
      "source": [
        "Import the module named mymodule, and access the person1 dictionary:"
      ]
    },
    {
      "cell_type": "code",
      "metadata": {
        "id": "98wBQEbpcneX",
        "colab_type": "code",
        "colab": {}
      },
      "source": [
        "import mymodule1\n",
        "\n",
        "a = mymodule1.person1[\"age\"]\n",
        "print(a)"
      ],
      "execution_count": null,
      "outputs": []
    }
  ]
}