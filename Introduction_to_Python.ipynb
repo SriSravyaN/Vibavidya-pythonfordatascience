{
  "nbformat": 4,
  "nbformat_minor": 0,
  "metadata": {
    "kernelspec": {
      "display_name": "Python 3",
      "language": "python",
      "name": "python3"
    },
    "language_info": {
      "codemirror_mode": {
        "name": "ipython",
        "version": 3
      },
      "file_extension": ".py",
      "mimetype": "text/x-python",
      "name": "python",
      "nbconvert_exporter": "python",
      "pygments_lexer": "ipython3",
      "version": "3.5.2"
    },
    "colab": {
      "name": "Introduction to Python.ipynb",
      "provenance": [],
      "include_colab_link": true
    }
  },
  "cells": [
    {
      "cell_type": "markdown",
      "metadata": {
        "id": "view-in-github",
        "colab_type": "text"
      },
      "source": [
        "<a href=\"https://colab.research.google.com/github/SriSravyaN/Vibavidya-pythonfordatascience/blob/master/Introduction_to_Python.ipynb\" target=\"_parent\"><img src=\"https://colab.research.google.com/assets/colab-badge.svg\" alt=\"Open In Colab\"/></a>"
      ]
    },
    {
      "cell_type": "markdown",
      "metadata": {
        "id": "dzSwZvmkhLfW",
        "colab_type": "text"
      },
      "source": [
        "<H1>Introduction to Python</H1>"
      ]
    },
    {
      "cell_type": "markdown",
      "metadata": {
        "id": "cuiMC4I-hLfX",
        "colab_type": "text"
      },
      "source": [
        "We will be using the Jupyter notebook for many activities this semester. Every notebook has an associated language called the \"kernel\". We will be using in the Python 3 kernel from the IPython project.\n",
        "\n",
        "For more information on how to use the notebook, please read the following (which is also a notebook written by a Bryn Mawr student):\n",
        "\n",
        "* https://athena.brynmawr.edu/jupyter/hub/dblank/public/Jupyter%20Notebook%20Users%20Manual.ipynb"
      ]
    },
    {
      "cell_type": "markdown",
      "metadata": {
        "id": "wWxkwe19hLfZ",
        "colab_type": "text"
      },
      "source": [
        "# 1. Python"
      ]
    },
    {
      "cell_type": "markdown",
      "metadata": {
        "id": "qXE3SO7-hLfa",
        "colab_type": "text"
      },
      "source": [
        "Python is a programming language that has been under development for over 25 years [1].\n",
        "\n",
        "This Chapter will not cover everything in Python. If you would like, please consider the following resources:\n",
        "\n",
        "**Getting Started with Python**:\n",
        "\n",
        "* https://www.codecademy.com/learn/python\n",
        "* http://docs.python-guide.org/en/latest/intro/learning/\n",
        "* https://learnpythonthehardway.org/book/\n",
        "* https://www.codementor.io/learn-python-online\n",
        "\n",
        "**Learning Python in Notebooks**:\n",
        "\n",
        "* http://mbakker7.github.io/exploratory_computing_with_python/\n",
        "\n",
        "This is handy to always have available for reference:\n",
        "\n",
        "**Python Reference**:\n",
        "\n",
        "* https://docs.python.org/3.5/reference/\n"
      ]
    },
    {
      "cell_type": "markdown",
      "metadata": {
        "id": "iUQI_zifhLfc",
        "colab_type": "text"
      },
      "source": [
        "## 1.1 Statements"
      ]
    },
    {
      "cell_type": "markdown",
      "metadata": {
        "id": "Mi2Xf0MIhLfd",
        "colab_type": "text"
      },
      "source": [
        "Python is an [imperative language](https://en.wikipedia.org/wiki/Imperative_programming) based on [statements](https://en.wikipedia.org/wiki/Statement_(computer_science&#41;). That is, programs in Python consists of lines composed of statements. A statement can be:\n",
        "\n",
        "* a single expression\n",
        "* an assignment\n",
        "* a function call\n",
        "* a function definition\n",
        "* a statement; statement"
      ]
    },
    {
      "cell_type": "markdown",
      "metadata": {
        "id": "8XtTLGHAhLfe",
        "colab_type": "text"
      },
      "source": [
        "### 1.1.1 Expressions"
      ]
    },
    {
      "cell_type": "markdown",
      "metadata": {
        "id": "yZ9JkeMdhLff",
        "colab_type": "text"
      },
      "source": [
        "* Numbers\n",
        "  * integers\n",
        "  * floating-point\n",
        "  * complex numbers\n",
        "* strings\n",
        "* boolean values\n",
        "* lists and dicts"
      ]
    },
    {
      "cell_type": "markdown",
      "metadata": {
        "id": "grzLcYsdhLfh",
        "colab_type": "text"
      },
      "source": [
        "#### 1.1.1.1 Numbers"
      ]
    },
    {
      "cell_type": "code",
      "metadata": {
        "id": "V5TrNk7mhLfi",
        "colab_type": "code",
        "colab": {}
      },
      "source": [
        "1"
      ],
      "execution_count": null,
      "outputs": []
    },
    {
      "cell_type": "code",
      "metadata": {
        "id": "sDe_Yqj5hLfo",
        "colab_type": "code",
        "colab": {}
      },
      "source": [
        "2"
      ],
      "execution_count": null,
      "outputs": []
    },
    {
      "cell_type": "code",
      "metadata": {
        "id": "ulM5JybGhLfv",
        "colab_type": "code",
        "colab": {}
      },
      "source": [
        "-3"
      ],
      "execution_count": null,
      "outputs": []
    },
    {
      "cell_type": "code",
      "metadata": {
        "id": "XYA7qlwGhLf1",
        "colab_type": "code",
        "colab": {}
      },
      "source": [
        "1\n",
        "2"
      ],
      "execution_count": null,
      "outputs": []
    },
    {
      "cell_type": "code",
      "metadata": {
        "id": "uo33UGY7hLf7",
        "colab_type": "code",
        "colab": {}
      },
      "source": [
        "3.14"
      ],
      "execution_count": null,
      "outputs": []
    },
    {
      "cell_type": "markdown",
      "metadata": {
        "id": "oi5NXg20hLgC",
        "colab_type": "text"
      },
      "source": [
        "#### 1.1.1.2 Strings"
      ]
    },
    {
      "cell_type": "code",
      "metadata": {
        "id": "k-jUIKWVhLgD",
        "colab_type": "code",
        "colab": {}
      },
      "source": [
        "'apple'"
      ],
      "execution_count": null,
      "outputs": []
    },
    {
      "cell_type": "code",
      "metadata": {
        "id": "0wCZqEZohLgJ",
        "colab_type": "code",
        "colab": {}
      },
      "source": [
        "\"apple\""
      ],
      "execution_count": null,
      "outputs": []
    },
    {
      "cell_type": "markdown",
      "metadata": {
        "id": "VxcCHs_4hLgS",
        "colab_type": "text"
      },
      "source": [
        "Notice that the Out might not match exactly the In. In the above example, we used double-quotes but the representation of the string used single-quotes. Python will default to showing representations of values using single-quotes, if it can."
      ]
    },
    {
      "cell_type": "markdown",
      "metadata": {
        "id": "liwtSGFXhLgU",
        "colab_type": "text"
      },
      "source": [
        "#### 1.1.1.3 Boolean Values"
      ]
    },
    {
      "cell_type": "code",
      "metadata": {
        "id": "N3-j-wSZhLgV",
        "colab_type": "code",
        "colab": {}
      },
      "source": [
        "True"
      ],
      "execution_count": null,
      "outputs": []
    },
    {
      "cell_type": "code",
      "metadata": {
        "id": "qdnt2BtXhLgb",
        "colab_type": "code",
        "colab": {}
      },
      "source": [
        "False"
      ],
      "execution_count": null,
      "outputs": []
    },
    {
      "cell_type": "markdown",
      "metadata": {
        "id": "YJi3gzJZhLgh",
        "colab_type": "text"
      },
      "source": [
        "#### 1.1.1.4 Lists and Dicts"
      ]
    },
    {
      "cell_type": "markdown",
      "metadata": {
        "id": "1ts6_BophLgi",
        "colab_type": "text"
      },
      "source": [
        "Python has three very useful data structures built into the language:\n",
        "\n",
        "* dictionaries (hash tables): {}\n",
        "* lists: []\n",
        "* tuples: (item, ...)\n",
        "\n",
        "List is a mutable list of items. Tuple is a read-only data structure (immutable)."
      ]
    },
    {
      "cell_type": "code",
      "metadata": {
        "id": "HIGst392hLgj",
        "colab_type": "code",
        "colab": {}
      },
      "source": [
        "[1, 2, 3]"
      ],
      "execution_count": null,
      "outputs": []
    },
    {
      "cell_type": "code",
      "metadata": {
        "id": "Es-Eic1mhLgp",
        "colab_type": "code",
        "colab": {}
      },
      "source": [
        "(1, 2, 3)"
      ],
      "execution_count": null,
      "outputs": []
    },
    {
      "cell_type": "code",
      "metadata": {
        "id": "tW_X_5quhLgw",
        "colab_type": "code",
        "colab": {}
      },
      "source": [
        "1, 2, 3"
      ],
      "execution_count": null,
      "outputs": []
    },
    {
      "cell_type": "code",
      "metadata": {
        "collapsed": true,
        "id": "WPxZdApihLg3",
        "colab_type": "code",
        "colab": {}
      },
      "source": [
        "{\"apple\": \"a fruit\", \"banana\": \"an herb\", \"monkey\": \"a mammal\"}"
      ],
      "execution_count": null,
      "outputs": []
    },
    {
      "cell_type": "code",
      "metadata": {
        "id": "btr5zTaYhLg-",
        "colab_type": "code",
        "colab": {}
      },
      "source": [
        "{\"apple\": \"a fruit\", \"banana\": \"an herb\", \"monkey\": \"a mammal\"}[\"apple\"]"
      ],
      "execution_count": null,
      "outputs": []
    },
    {
      "cell_type": "markdown",
      "metadata": {
        "id": "RRUr9RyQhLhF",
        "colab_type": "text"
      },
      "source": [
        "### 1.1.2 Function Calls"
      ]
    },
    {
      "cell_type": "markdown",
      "metadata": {
        "id": "EFw0wbsAhLhG",
        "colab_type": "text"
      },
      "source": [
        "There are two ways to call functions in Python:\n",
        "\n",
        "1. by pre-defined infix operator name\n",
        "2. by function name, followed by parentheses\n",
        "\n",
        "Infix operator name:"
      ]
    },
    {
      "cell_type": "code",
      "metadata": {
        "id": "B169P2E8hLhI",
        "colab_type": "code",
        "colab": {}
      },
      "source": [
        "1 + 2"
      ],
      "execution_count": null,
      "outputs": []
    },
    {
      "cell_type": "code",
      "metadata": {
        "id": "VxL50cxghLhO",
        "colab_type": "code",
        "colab": {}
      },
      "source": [
        "abs(-1)"
      ],
      "execution_count": null,
      "outputs": []
    },
    {
      "cell_type": "code",
      "metadata": {
        "collapsed": true,
        "id": "ip4Qu_ighLhU",
        "colab_type": "code",
        "colab": {}
      },
      "source": [
        "import operator"
      ],
      "execution_count": null,
      "outputs": []
    },
    {
      "cell_type": "code",
      "metadata": {
        "id": "CgbRQr4PhLha",
        "colab_type": "code",
        "colab": {}
      },
      "source": [
        "operator.add(1, 2)"
      ],
      "execution_count": null,
      "outputs": []
    },
    {
      "cell_type": "markdown",
      "metadata": {
        "id": "9dLhZnIbhLhh",
        "colab_type": "text"
      },
      "source": [
        "#### 1.1.2.1 Print"
      ]
    },
    {
      "cell_type": "markdown",
      "metadata": {
        "id": "OYw59WPFhLhi",
        "colab_type": "text"
      },
      "source": [
        "Evaluating and display result as an Out, versus evaluating and printing result (side-effect)."
      ]
    },
    {
      "cell_type": "code",
      "metadata": {
        "id": "ggd0l6G9hLhj",
        "colab_type": "code",
        "colab": {}
      },
      "source": [
        "print(1)"
      ],
      "execution_count": null,
      "outputs": []
    },
    {
      "cell_type": "markdown",
      "metadata": {
        "id": "rJ8EJhnbhLhp",
        "colab_type": "text"
      },
      "source": [
        "### 1.1.3 Special Values"
      ]
    },
    {
      "cell_type": "code",
      "metadata": {
        "collapsed": true,
        "id": "Blk40csphLhr",
        "colab_type": "code",
        "colab": {}
      },
      "source": [
        "None"
      ],
      "execution_count": null,
      "outputs": []
    },
    {
      "cell_type": "markdown",
      "metadata": {
        "id": "DVLYs9GwhLhw",
        "colab_type": "text"
      },
      "source": [
        "### 1.1.4 Defining Functions"
      ]
    },
    {
      "cell_type": "code",
      "metadata": {
        "collapsed": true,
        "id": "uRhZpz6ehLhy",
        "colab_type": "code",
        "colab": {}
      },
      "source": [
        "def plus(a, b):\n",
        "    return a + b"
      ],
      "execution_count": null,
      "outputs": []
    },
    {
      "cell_type": "code",
      "metadata": {
        "id": "Q9HQBC1IhLh6",
        "colab_type": "code",
        "colab": {}
      },
      "source": [
        "plus(3, 4)"
      ],
      "execution_count": null,
      "outputs": []
    },
    {
      "cell_type": "code",
      "metadata": {
        "collapsed": true,
        "id": "WyaL7MKthLiA",
        "colab_type": "code",
        "colab": {}
      },
      "source": [
        "def plus(a, b):\n",
        "    a + b"
      ],
      "execution_count": null,
      "outputs": []
    },
    {
      "cell_type": "code",
      "metadata": {
        "collapsed": true,
        "id": "rJdvtZBAhLiF",
        "colab_type": "code",
        "colab": {}
      },
      "source": [
        "plus(3, 4)"
      ],
      "execution_count": null,
      "outputs": []
    },
    {
      "cell_type": "markdown",
      "metadata": {
        "id": "MQNpOaSghLiL",
        "colab_type": "text"
      },
      "source": [
        "What happened? All functions return *something*, even if you don't specify it. If you don't specify a return value, then it will default to returning `None`."
      ]
    },
    {
      "cell_type": "code",
      "metadata": {
        "id": "kN-arMqWhLiM",
        "colab_type": "code",
        "colab": {}
      },
      "source": [
        "\"a\" + 1"
      ],
      "execution_count": null,
      "outputs": []
    },
    {
      "cell_type": "markdown",
      "metadata": {
        "id": "4jfydb4JhLiR",
        "colab_type": "text"
      },
      "source": [
        "<div style=\"background-color: lightgrey\">\n",
        "<h2>Sidebar 2-1: How to Read Python Error Messages</h2>\n",
        "\n",
        "<p>\n",
        "Python error messages \n",
        "<p>\n",
        "<tt>TypeError: Can't convert 'int' object to str implicitly</tt>\n",
        "</p>\n",
        "\n",
        "<p>Above the error message is the \"traceback\" also called the \"call stack\". This is a representation of the sequence of procedure calls that lead to the error. If the procedure call originated from code from a file, the filename would be listed after the word \"File\" on each line. If the procedure call originated from a notebook cell, then the word \"ipython-input-#-HEX\".\n",
        "</p>\n",
        "</div>"
      ]
    },
    {
      "cell_type": "markdown",
      "metadata": {
        "id": "TY2lIcCqhLiS",
        "colab_type": "text"
      },
      "source": [
        "## 1.2 Equality"
      ]
    },
    {
      "cell_type": "markdown",
      "metadata": {
        "id": "qLAezgs7hLiT",
        "colab_type": "text"
      },
      "source": [
        "### 1.2.1 =="
      ]
    },
    {
      "cell_type": "code",
      "metadata": {
        "id": "rKUtFZh2hLiU",
        "colab_type": "code",
        "colab": {}
      },
      "source": [
        "1 == 1"
      ],
      "execution_count": null,
      "outputs": []
    },
    {
      "cell_type": "markdown",
      "metadata": {
        "id": "VavjT5NohLib",
        "colab_type": "text"
      },
      "source": [
        "### 1.2.2 is"
      ]
    },
    {
      "cell_type": "code",
      "metadata": {
        "id": "pdD9vKgNhLic",
        "colab_type": "code",
        "colab": {}
      },
      "source": [
        "[] is []"
      ],
      "execution_count": null,
      "outputs": []
    },
    {
      "cell_type": "code",
      "metadata": {
        "id": "w9Ms_CjfhLig",
        "colab_type": "code",
        "colab": {}
      },
      "source": [
        "list() is list()"
      ],
      "execution_count": null,
      "outputs": []
    },
    {
      "cell_type": "code",
      "metadata": {
        "id": "28wYtQX0hLil",
        "colab_type": "code",
        "colab": {}
      },
      "source": [
        "tuple() is tuple()"
      ],
      "execution_count": null,
      "outputs": []
    },
    {
      "cell_type": "code",
      "metadata": {
        "id": "y6y3WocnhLir",
        "colab_type": "code",
        "colab": {}
      },
      "source": [
        "57663463467 is 57663463467"
      ],
      "execution_count": null,
      "outputs": []
    },
    {
      "cell_type": "markdown",
      "metadata": {
        "id": "BCvf5kiVhLiv",
        "colab_type": "text"
      },
      "source": [
        "# 2. Advanced Topics"
      ]
    },
    {
      "cell_type": "markdown",
      "metadata": {
        "id": "OO_aO-f_hLiy",
        "colab_type": "text"
      },
      "source": [
        "The Zen of Python:"
      ]
    },
    {
      "cell_type": "code",
      "metadata": {
        "id": "d62yG6YlhLiz",
        "colab_type": "code",
        "colab": {}
      },
      "source": [
        "import this"
      ],
      "execution_count": null,
      "outputs": []
    },
    {
      "cell_type": "markdown",
      "metadata": {
        "id": "Tgb9UsRjhLi4",
        "colab_type": "text"
      },
      "source": [
        "Python evolves. But there are limits:"
      ]
    },
    {
      "cell_type": "code",
      "metadata": {
        "id": "wWX2LZ3yhLi5",
        "colab_type": "code",
        "colab": {}
      },
      "source": [
        "from __future__ import braces"
      ],
      "execution_count": null,
      "outputs": []
    },
    {
      "cell_type": "markdown",
      "metadata": {
        "id": "QduOAI7phLi-",
        "colab_type": "text"
      },
      "source": [
        "## 2.1 Python Warts"
      ]
    },
    {
      "cell_type": "markdown",
      "metadata": {
        "id": "2VnGXRAdhLi-",
        "colab_type": "text"
      },
      "source": [
        "* http://web.archive.org/web/20031002184114/www.amk.ca/python/writing/warts.html\n",
        "* \n",
        "* https://www.python.org/dev/peps/pep-3099/"
      ]
    },
    {
      "cell_type": "markdown",
      "metadata": {
        "id": "jDaE-ZSvhLi_",
        "colab_type": "text"
      },
      "source": [
        "## 2.2 Scope of variables"
      ]
    },
    {
      "cell_type": "markdown",
      "metadata": {
        "id": "Uoy_9unghLjA",
        "colab_type": "text"
      },
      "source": [
        "Is not always clear:"
      ]
    },
    {
      "cell_type": "code",
      "metadata": {
        "id": "bbPvQcSkhLjB",
        "colab_type": "code",
        "colab": {}
      },
      "source": [
        "y = 0\n",
        "for x in range(10):\n",
        "    y = x"
      ],
      "execution_count": null,
      "outputs": []
    },
    {
      "cell_type": "code",
      "metadata": {
        "id": "nRdD46JjhLjG",
        "colab_type": "code",
        "colab": {}
      },
      "source": [
        "x"
      ],
      "execution_count": null,
      "outputs": []
    },
    {
      "cell_type": "code",
      "metadata": {
        "id": "2CMbOUaphLjO",
        "colab_type": "code",
        "colab": {}
      },
      "source": [
        "[x for x in range(10, 20)]"
      ],
      "execution_count": null,
      "outputs": []
    },
    {
      "cell_type": "code",
      "metadata": {
        "id": "QBwZw3LphLjW",
        "colab_type": "code",
        "colab": {}
      },
      "source": [
        "x"
      ],
      "execution_count": null,
      "outputs": []
    },
    {
      "cell_type": "markdown",
      "metadata": {
        "id": "YwqrswqqhLjb",
        "colab_type": "text"
      },
      "source": [
        "## 2.3 Scope"
      ]
    },
    {
      "cell_type": "markdown",
      "metadata": {
        "id": "xeUDA0bdhLjd",
        "colab_type": "text"
      },
      "source": [
        "Python follows the LEGB Rule (after https://www.amazon.com/dp/0596513984/):\n",
        "\n",
        "* L, Local: Names assigned in any way within a function (def or lambda)), and not declared global in that function.\n",
        "* E, Enclosing function locals: Name in the local scope of any and all enclosing functions (def or lambda), from inner to outer.\n",
        "* G, Global (module): Names assigned at the top-level of a module file, or declared global in a def within the file.\n",
        "* B, Built-in (Python): Names preassigned in the built-in names module : open, range, SyntaxError,..."
      ]
    },
    {
      "cell_type": "code",
      "metadata": {
        "id": "Wy11iOpQhLjf",
        "colab_type": "code",
        "colab": {}
      },
      "source": [
        "x = 3\n",
        "def foo():\n",
        "    x=4\n",
        "    def bar():\n",
        "        print(x)  # Accesses x from foo's scope\n",
        "    bar()  # Prints 4\n",
        "    x=5\n",
        "    bar()  # Prints 5"
      ],
      "execution_count": null,
      "outputs": []
    },
    {
      "cell_type": "code",
      "metadata": {
        "id": "UUYHm21ihLjl",
        "colab_type": "code",
        "colab": {}
      },
      "source": [
        "foo()"
      ],
      "execution_count": null,
      "outputs": []
    },
    {
      "cell_type": "markdown",
      "metadata": {
        "id": "neQeeztBhLjs",
        "colab_type": "text"
      },
      "source": [
        "See [scope_resolution_legb_rule.ipynb](scope_resolution_legb_rule.ipynb) for some additional readings on scope."
      ]
    },
    {
      "cell_type": "markdown",
      "metadata": {
        "id": "67sNphtnhLjt",
        "colab_type": "text"
      },
      "source": [
        "## 2.4 Generators"
      ]
    },
    {
      "cell_type": "code",
      "metadata": {
        "id": "nFHP-WlNhLjv",
        "colab_type": "code",
        "colab": {}
      },
      "source": [
        "def function():\n",
        "    for i in range(10):\n",
        "        yield i"
      ],
      "execution_count": null,
      "outputs": []
    },
    {
      "cell_type": "code",
      "metadata": {
        "id": "71J1-v8zhLj0",
        "colab_type": "code",
        "colab": {}
      },
      "source": [
        "function()"
      ],
      "execution_count": null,
      "outputs": []
    },
    {
      "cell_type": "code",
      "metadata": {
        "id": "5JIS92HwhLj5",
        "colab_type": "code",
        "colab": {}
      },
      "source": [
        "for y in function():\n",
        "    print(y)"
      ],
      "execution_count": null,
      "outputs": []
    },
    {
      "cell_type": "markdown",
      "metadata": {
        "id": "gQ-8r0PVhLj9",
        "colab_type": "text"
      },
      "source": [
        "## 2.5 Default arguments"
      ]
    },
    {
      "cell_type": "code",
      "metadata": {
        "id": "zw4MVYrIhLj-",
        "colab_type": "code",
        "colab": {}
      },
      "source": [
        "def do_something(a, b, c):\n",
        "    return (a, b, c)"
      ],
      "execution_count": null,
      "outputs": []
    },
    {
      "cell_type": "code",
      "metadata": {
        "id": "KO4wincmhLkE",
        "colab_type": "code",
        "colab": {}
      },
      "source": [
        "do_something(1, 2, 3)"
      ],
      "execution_count": null,
      "outputs": []
    },
    {
      "cell_type": "code",
      "metadata": {
        "id": "AiTF27gjhLkI",
        "colab_type": "code",
        "colab": {}
      },
      "source": [
        "def do_something_else(a=1, b=2, c=3):\n",
        "    return (a, b, c)"
      ],
      "execution_count": null,
      "outputs": []
    },
    {
      "cell_type": "code",
      "metadata": {
        "id": "9PpnXp33hLkM",
        "colab_type": "code",
        "colab": {}
      },
      "source": [
        "do_something_else()"
      ],
      "execution_count": null,
      "outputs": []
    },
    {
      "cell_type": "code",
      "metadata": {
        "id": "S722I6zphLkS",
        "colab_type": "code",
        "colab": {}
      },
      "source": [
        "def some_function(start=[]):\n",
        "    start.append(1)\n",
        "    return start"
      ],
      "execution_count": null,
      "outputs": []
    },
    {
      "cell_type": "code",
      "metadata": {
        "id": "JGrWeLe4hLkb",
        "colab_type": "code",
        "colab": {}
      },
      "source": [
        "result = some_function()"
      ],
      "execution_count": null,
      "outputs": []
    },
    {
      "cell_type": "code",
      "metadata": {
        "id": "HA1ij-B0hLkf",
        "colab_type": "code",
        "colab": {}
      },
      "source": [
        "result"
      ],
      "execution_count": null,
      "outputs": []
    },
    {
      "cell_type": "code",
      "metadata": {
        "id": "5dICHwbHhLkp",
        "colab_type": "code",
        "colab": {}
      },
      "source": [
        "result.append(2)"
      ],
      "execution_count": null,
      "outputs": []
    },
    {
      "cell_type": "code",
      "metadata": {
        "id": "Laajb33FhLku",
        "colab_type": "code",
        "colab": {}
      },
      "source": [
        "other_result = some_function()"
      ],
      "execution_count": null,
      "outputs": []
    },
    {
      "cell_type": "code",
      "metadata": {
        "id": "GCMgYhvQhLk1",
        "colab_type": "code",
        "colab": {}
      },
      "source": [
        "other_result"
      ],
      "execution_count": null,
      "outputs": []
    },
    {
      "cell_type": "markdown",
      "metadata": {
        "id": "JsZBEfEuhLk4",
        "colab_type": "text"
      },
      "source": [
        "## 3.2 List comprehension"
      ]
    },
    {
      "cell_type": "markdown",
      "metadata": {
        "id": "5K-dZxajhLk5",
        "colab_type": "text"
      },
      "source": [
        "\"List comprehension\" is the idea of writing some code inside of a list that will generate a list.\n",
        "\n",
        "Consider the following:"
      ]
    },
    {
      "cell_type": "code",
      "metadata": {
        "id": "JezlbyRqhLk6",
        "colab_type": "code",
        "colab": {}
      },
      "source": [
        "[x ** 2 for x in range(10)]"
      ],
      "execution_count": null,
      "outputs": []
    },
    {
      "cell_type": "code",
      "metadata": {
        "id": "dEliqLPThLk-",
        "colab_type": "code",
        "colab": {}
      },
      "source": [
        "temp_list = []\n",
        "for x in range(10):\n",
        "    temp_list.append(x ** 2)\n",
        "temp_list"
      ],
      "execution_count": null,
      "outputs": []
    },
    {
      "cell_type": "markdown",
      "metadata": {
        "id": "WeVzRdHdhLlC",
        "colab_type": "text"
      },
      "source": [
        "But list comprehension is much more concise."
      ]
    },
    {
      "cell_type": "markdown",
      "metadata": {
        "id": "IoMXlAo3hLlC",
        "colab_type": "text"
      },
      "source": [
        "## 3.3 Plotting"
      ]
    },
    {
      "cell_type": "code",
      "metadata": {
        "id": "9_rwYG2zhLlD",
        "colab_type": "code",
        "colab": {}
      },
      "source": [
        "%matplotlib notebook"
      ],
      "execution_count": null,
      "outputs": []
    },
    {
      "cell_type": "markdown",
      "metadata": {
        "id": "XRKyW-46hLlI",
        "colab_type": "text"
      },
      "source": [
        "After the magic, we then need to import the matplotlib library:"
      ]
    },
    {
      "cell_type": "code",
      "metadata": {
        "id": "Vpjhot0jhLlI",
        "colab_type": "code",
        "colab": {}
      },
      "source": [
        "import matplotlib.pyplot as plt"
      ],
      "execution_count": null,
      "outputs": []
    },
    {
      "cell_type": "markdown",
      "metadata": {
        "id": "5ohnviOHhLlM",
        "colab_type": "text"
      },
      "source": [
        "Python has many, many libraries. We will use a few over the course of the semester.\n",
        "\n",
        "To create a simple line plot, just give a list of y-values to the function plt.plot()."
      ]
    },
    {
      "cell_type": "code",
      "metadata": {
        "id": "GG7ag1hvhLlN",
        "colab_type": "code",
        "colab": {}
      },
      "source": [
        "plt.plot([5, 8, 2, 6, 1, 8, 2, 3, 4, 5, 6])"
      ],
      "execution_count": null,
      "outputs": []
    },
    {
      "cell_type": "markdown",
      "metadata": {
        "id": "ZaPFXPHMhLlR",
        "colab_type": "text"
      },
      "source": [
        "But you should never create a plot that doesn't have labels on the x and y axises, and should always have a title. Read the documentation on matplotlib and add labels and a title to the plot above:\n",
        "\n",
        "http://matplotlib.org/api/pyplot_api.html\n",
        "\n",
        "Another commonly used library (especially with matplotlib is numpy). Often imported as:"
      ]
    },
    {
      "cell_type": "markdown",
      "metadata": {
        "id": "n3ZF4MyMhLlS",
        "colab_type": "text"
      },
      "source": [
        "## 2.6 Closures"
      ]
    },
    {
      "cell_type": "markdown",
      "metadata": {
        "id": "VAjAJMjphLlS",
        "colab_type": "text"
      },
      "source": [
        "Are functions that capture some of the local bindings to variables."
      ]
    },
    {
      "cell_type": "code",
      "metadata": {
        "id": "Jh08FsxThLlT",
        "colab_type": "code",
        "colab": {}
      },
      "source": [
        "def return_a_closure():\n",
        "    dict = {}\n",
        "    def hidden(operator, value, other=None):\n",
        "        if operator == \"add\":\n",
        "            dict[value] = other\n",
        "        else:\n",
        "            return dict[value]\n",
        "    return hidden"
      ],
      "execution_count": null,
      "outputs": []
    },
    {
      "cell_type": "code",
      "metadata": {
        "id": "NNw3l5Y9hLlW",
        "colab_type": "code",
        "colab": {}
      },
      "source": [
        "thing = return_a_closure()"
      ],
      "execution_count": null,
      "outputs": []
    },
    {
      "cell_type": "code",
      "metadata": {
        "id": "ww2rjKk5hLlZ",
        "colab_type": "code",
        "colab": {}
      },
      "source": [
        "thing(\"add\", \"apple\", 42)"
      ],
      "execution_count": null,
      "outputs": []
    },
    {
      "cell_type": "code",
      "metadata": {
        "id": "UNNhvUuBhLlc",
        "colab_type": "code",
        "colab": {}
      },
      "source": [
        "thing(\"get\", \"apple\")"
      ],
      "execution_count": null,
      "outputs": []
    },
    {
      "cell_type": "code",
      "metadata": {
        "id": "YNA8oGZAhLlf",
        "colab_type": "code",
        "colab": {}
      },
      "source": [
        "thing.dict"
      ],
      "execution_count": null,
      "outputs": []
    },
    {
      "cell_type": "markdown",
      "metadata": {
        "id": "Z0mptOtAhLlm",
        "colab_type": "text"
      },
      "source": [
        "Where is dict?\n",
        "\n",
        "See http://www.programiz.com/python-programming/closure for more examples."
      ]
    },
    {
      "cell_type": "markdown",
      "metadata": {
        "id": "fq54-ts1hLlm",
        "colab_type": "text"
      },
      "source": [
        "<H1>References</H1>\n",
        "\n",
        "[1] https://en.wikipedia.org/wiki/History_of_Python"
      ]
    }
  ]
}