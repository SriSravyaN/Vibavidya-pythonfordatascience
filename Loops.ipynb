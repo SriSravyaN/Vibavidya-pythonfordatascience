{
  "nbformat": 4,
  "nbformat_minor": 0,
  "metadata": {
    "colab": {
      "name": "Loops.ipynb",
      "provenance": [],
      "collapsed_sections": []
    },
    "kernelspec": {
      "name": "python3",
      "display_name": "Python 3"
    }
  },
  "cells": [
    {
      "cell_type": "markdown",
      "metadata": {
        "id": "fLIYqHPvdZiX",
        "colab_type": "text"
      },
      "source": [
        "##loop is a used for iterating over a set of statements repeatedly"
      ]
    },
    {
      "cell_type": "markdown",
      "metadata": {
        "id": "2Pt6Ck02bSp2",
        "colab_type": "text"
      },
      "source": [
        "### The while Loop\n",
        "With the while loop we can execute a set of statements as long as a condition is true.\n",
        "\n",
        "The while loop requires relevant variables to be ready, in this example we need to define an indexing variable, i, which we set to 1."
      ]
    },
    {
      "cell_type": "markdown",
      "metadata": {
        "id": "3zBM9iDJbeu4",
        "colab_type": "text"
      },
      "source": [
        "### It is similar to \"repeated if statement\""
      ]
    },
    {
      "cell_type": "markdown",
      "metadata": {
        "id": "71PkWfQGbpmG",
        "colab_type": "text"
      },
      "source": [
        "### Example\n",
        "Print i as long as i is less than 6:"
      ]
    },
    {
      "cell_type": "code",
      "metadata": {
        "id": "2R0Cz0TpbUca",
        "colab_type": "code",
        "colab": {
          "base_uri": "https://localhost:8080/",
          "height": 101
        },
        "outputId": "42e9fe75-7938-466c-e112-508c886ce22d"
      },
      "source": [
        "i = 1\n",
        "while i < 6:\n",
        "  print(i)\n",
        "  i += 1"
      ],
      "execution_count": null,
      "outputs": [
        {
          "output_type": "stream",
          "text": [
            "1\n",
            "2\n",
            "3\n",
            "4\n",
            "5\n"
          ],
          "name": "stdout"
        }
      ]
    },
    {
      "cell_type": "markdown",
      "metadata": {
        "id": "zizjuDOnb2xS",
        "colab_type": "text"
      },
      "source": [
        "**Note: remember to increment i, or else the loop will continue forever.**"
      ]
    },
    {
      "cell_type": "markdown",
      "metadata": {
        "id": "N_JjVI1rcH3C",
        "colab_type": "text"
      },
      "source": [
        "### The break Statement\n",
        "With the break statement we can stop the loop even if the while condition is true:"
      ]
    },
    {
      "cell_type": "markdown",
      "metadata": {
        "id": "QmEoV8Y7cNSC",
        "colab_type": "text"
      },
      "source": [
        "### Example\n",
        "Exit the loop when i is 3:"
      ]
    },
    {
      "cell_type": "code",
      "metadata": {
        "id": "7bc-vCi4b11o",
        "colab_type": "code",
        "colab": {
          "base_uri": "https://localhost:8080/",
          "height": 67
        },
        "outputId": "70e3da17-f0df-455a-9dfe-70c2492341dd"
      },
      "source": [
        "i = 1\n",
        "while i < 6:\n",
        "  print(i)\n",
        "  if i == 3:\n",
        "    break\n",
        "  i += 1"
      ],
      "execution_count": null,
      "outputs": [
        {
          "output_type": "stream",
          "text": [
            "1\n",
            "2\n",
            "3\n"
          ],
          "name": "stdout"
        }
      ]
    },
    {
      "cell_type": "markdown",
      "metadata": {
        "id": "bYOiVTH4cVfW",
        "colab_type": "text"
      },
      "source": [
        "### The continue Statement\n",
        "With the continue statement we can stop the current iteration, and continue with the next:"
      ]
    },
    {
      "cell_type": "markdown",
      "metadata": {
        "id": "LGwi8hi-caKt",
        "colab_type": "text"
      },
      "source": [
        "### Example\n",
        "Continue to the next iteration if i is 3:"
      ]
    },
    {
      "cell_type": "code",
      "metadata": {
        "id": "shZBm_NhcW8E",
        "colab_type": "code",
        "colab": {
          "base_uri": "https://localhost:8080/",
          "height": 101
        },
        "outputId": "2b8b4131-4ae2-4e29-a4e4-aef8812c3e2f"
      },
      "source": [
        "i = 0\n",
        "while i < 6:\n",
        "  i += 1\n",
        "  if i == 3:\n",
        "    continue\n",
        "  print(i)"
      ],
      "execution_count": null,
      "outputs": [
        {
          "output_type": "stream",
          "text": [
            "1\n",
            "2\n",
            "4\n",
            "5\n",
            "6\n"
          ],
          "name": "stdout"
        }
      ]
    },
    {
      "cell_type": "markdown",
      "metadata": {
        "id": "v3rzIoRtclxA",
        "colab_type": "text"
      },
      "source": [
        "### The else Statement\n",
        "With the else statement we can run a block of code once when the condition no longer is true:"
      ]
    },
    {
      "cell_type": "markdown",
      "metadata": {
        "id": "WW9CxCBBcqeM",
        "colab_type": "text"
      },
      "source": [
        "### Example\n",
        "Print a message once the condition is false:"
      ]
    },
    {
      "cell_type": "code",
      "metadata": {
        "id": "uA05DZgJcnDl",
        "colab_type": "code",
        "colab": {
          "base_uri": "https://localhost:8080/",
          "height": 118
        },
        "outputId": "7578c963-55a7-413d-a7f0-4fcc2d03cd21"
      },
      "source": [
        "i = 1\n",
        "while i < 6:\n",
        "  print(i)\n",
        "  i += 1\n",
        "else:\n",
        "  print(\"i is no longer less than 6\")"
      ],
      "execution_count": null,
      "outputs": [
        {
          "output_type": "stream",
          "text": [
            "1\n",
            "2\n",
            "3\n",
            "4\n",
            "5\n",
            "i is no longer less than 6\n"
          ],
          "name": "stdout"
        }
      ]
    },
    {
      "cell_type": "markdown",
      "metadata": {
        "id": "_cQYE4bXc0hT",
        "colab_type": "text"
      },
      "source": [
        "### For Loops\n",
        "A for loop is used for iterating over a sequence (that is either a list, a tuple, a dictionary, a set, or a string).\n",
        "\n",
        "This is less like the for keyword in other programming languages, and works more like an iterator method as found in other object-orientated programming languages.\n",
        "\n",
        "With the for loop we can execute a set of statements, once for each item in a list, tuple, set etc."
      ]
    },
    {
      "cell_type": "code",
      "metadata": {
        "id": "mpqjjkTfc54_",
        "colab_type": "code",
        "colab": {}
      },
      "source": [
        "numbers = [1, 2, 4, 6, 11, 20]\n",
        "\n",
        "# variable to store the square of each num temporary\n",
        "sq = 0\n",
        "\n",
        "# iterating over the given list\n",
        "for val in numbers:\n",
        "    # calculating square of each number\n",
        "    sq = val * val\n",
        "    # displaying the squares\n",
        "    print(sq)"
      ],
      "execution_count": null,
      "outputs": []
    },
    {
      "cell_type": "markdown",
      "metadata": {
        "id": "dES5JOmZd3v9",
        "colab_type": "text"
      },
      "source": [
        "### The for loop does not require an indexing variable to set beforehand."
      ]
    },
    {
      "cell_type": "markdown",
      "metadata": {
        "id": "K3Y9N_qpduaO",
        "colab_type": "text"
      },
      "source": [
        "### Print each fruit in a fruit list:"
      ]
    },
    {
      "cell_type": "code",
      "metadata": {
        "id": "mZrRygYRdtlk",
        "colab_type": "code",
        "colab": {
          "base_uri": "https://localhost:8080/",
          "height": 67
        },
        "outputId": "bf5d473d-7350-4422-b822-bd76fb1bc42c"
      },
      "source": [
        "fruits = [\"apple\", \"apple\", \"cherry\"]\n",
        "for y in fruits:\n",
        "  print(y)"
      ],
      "execution_count": null,
      "outputs": [
        {
          "output_type": "stream",
          "text": [
            "apple\n",
            "apple\n",
            "cherry\n"
          ],
          "name": "stdout"
        }
      ]
    },
    {
      "cell_type": "markdown",
      "metadata": {
        "id": "vocrMjHod93H",
        "colab_type": "text"
      },
      "source": [
        "### The break Statement\n",
        "With the break statement we can stop the loop before it has looped through all the items:"
      ]
    },
    {
      "cell_type": "markdown",
      "metadata": {
        "id": "1HHWpB8PeDEb",
        "colab_type": "text"
      },
      "source": [
        "###Example\n",
        "Exit the loop when x is \"banana\":"
      ]
    },
    {
      "cell_type": "code",
      "metadata": {
        "id": "o0t6f6GWd_Ny",
        "colab_type": "code",
        "colab": {}
      },
      "source": [
        "fruits = [\"apple\", \"banana\", \"cherry\"]\n",
        "for x in fruits:\n",
        "  print(x)\n",
        "  if x == \"banana\":\n",
        "    break"
      ],
      "execution_count": null,
      "outputs": []
    },
    {
      "cell_type": "markdown",
      "metadata": {
        "id": "wlF6NhGheN_Y",
        "colab_type": "text"
      },
      "source": [
        "### Example\n",
        "Exit the loop when x is \"banana\", but this time the break comes before the print:"
      ]
    },
    {
      "cell_type": "code",
      "metadata": {
        "id": "Gxpby-e2eQGl",
        "colab_type": "code",
        "colab": {}
      },
      "source": [
        "fruits = [\"apple\", \"banana\", \"cherry\"]\n",
        "for x in fruits:\n",
        "  if x == \"banana\":\n",
        "    break\n",
        "  print(x)"
      ],
      "execution_count": null,
      "outputs": []
    },
    {
      "cell_type": "markdown",
      "metadata": {
        "id": "MzFKN_JXeWO7",
        "colab_type": "text"
      },
      "source": [
        "###The continue Statement\n",
        "With the continue statement we can stop the current iteration of the loop, and continue with the next:"
      ]
    },
    {
      "cell_type": "markdown",
      "metadata": {
        "id": "1mlshK0PebBy",
        "colab_type": "text"
      },
      "source": [
        "###Example\n",
        "Do not print banana:"
      ]
    },
    {
      "cell_type": "code",
      "metadata": {
        "id": "WpdfZQZJeXcN",
        "colab_type": "code",
        "colab": {}
      },
      "source": [
        "fruits = [\"apple\", \"banana\", \"cherry\"]\n",
        "for x in fruits:\n",
        "  if x == \"banana\":\n",
        "    continue\n",
        "  print(x)"
      ],
      "execution_count": null,
      "outputs": []
    },
    {
      "cell_type": "markdown",
      "metadata": {
        "id": "S4yn9RFqejBC",
        "colab_type": "text"
      },
      "source": [
        "###The range() Function\n",
        "To loop through a set of code a specified number of times, we can use the range() function,\n",
        "The range() function returns a sequence of numbers, starting from 0 by default, and increments by 1 (by default), and ends at a specified number."
      ]
    },
    {
      "cell_type": "markdown",
      "metadata": {
        "id": "8fbR9hCleqEW",
        "colab_type": "text"
      },
      "source": [
        "###range(n): generates a set of whole numbers starting from 0 to (n-1).\n",
        "For example:\n",
        "range(8) is equivalent to [0, 1, 2, 3, 4, 5, 6, 7]\n",
        "\n",
        "###range(start, stop): generates a set of whole numbers starting from start to stop-1.\n",
        "For example:\n",
        "range(5, 9) is equivalent to [5, 6, 7, 8]\n",
        "\n",
        "###range(start, stop, step_size): The default step_size is 1 which is why when we didn’t specify the step_size, the numbers generated are having difference of 1. However by specifying step_size we can generate numbers having the difference of step_size.\n",
        "For example:\n",
        "range(1, 10, 2) is equivalent to [1, 3, 5, 7, 9]"
      ]
    },
    {
      "cell_type": "code",
      "metadata": {
        "id": "y0h722ZQfD22",
        "colab_type": "code",
        "colab": {
          "base_uri": "https://localhost:8080/",
          "height": 67
        },
        "outputId": "2d8ae3dc-8b0d-4ac7-e6ff-a94f4992538b"
      },
      "source": [
        "for x in range(6,13,3):\n",
        "  print(x)"
      ],
      "execution_count": null,
      "outputs": [
        {
          "output_type": "stream",
          "text": [
            "6\n",
            "9\n",
            "12\n"
          ],
          "name": "stdout"
        }
      ]
    },
    {
      "cell_type": "markdown",
      "metadata": {
        "id": "ovP-wjSqfK7x",
        "colab_type": "text"
      },
      "source": [
        "###Note that range(6) is not the values of 0 to 6, but the values 0 to 5."
      ]
    },
    {
      "cell_type": "markdown",
      "metadata": {
        "id": "Zi8HPrA2fK_O",
        "colab_type": "text"
      },
      "source": [
        "###The range() function defaults to 0 as a starting value, however it is possible to specify the starting value by adding a parameter: range(2, 6), which means values from 2 to 6 (but not including 6):"
      ]
    },
    {
      "cell_type": "code",
      "metadata": {
        "id": "x3yKPHNMfHHo",
        "colab_type": "code",
        "colab": {}
      },
      "source": [
        "for x in range(2, 6):\n",
        "  print(x)"
      ],
      "execution_count": null,
      "outputs": []
    },
    {
      "cell_type": "code",
      "metadata": {
        "id": "gCgclZfKfY0_",
        "colab_type": "code",
        "colab": {}
      },
      "source": [
        "for x in range(2, 30, 3):\n",
        "  print(x)"
      ],
      "execution_count": null,
      "outputs": []
    },
    {
      "cell_type": "markdown",
      "metadata": {
        "id": "fd46K4x2e4Zq",
        "colab_type": "text"
      },
      "source": [
        "###calculate and display the sum of first 5 natural numbers."
      ]
    },
    {
      "cell_type": "code",
      "metadata": {
        "id": "UMGcMDD0elQs",
        "colab_type": "code",
        "colab": {}
      },
      "source": [
        "sum = 0\n",
        "\n",
        "# iterating over natural numbers using range()\n",
        "for val in range(1, 6):\n",
        "    # calculating sum\n",
        "    sum = sum + val\n",
        "\n",
        "# displaying sum of first 5 natural numbers\n",
        "print(sum)"
      ],
      "execution_count": null,
      "outputs": []
    },
    {
      "cell_type": "markdown",
      "metadata": {
        "id": "zabmlvR8ffQF",
        "colab_type": "text"
      },
      "source": [
        "###Nested Loops\n",
        "A nested loop is a loop inside a loop.\n",
        "\n",
        "The \"inner loop\" will be executed one time for each iteration of the \"outer loop\":"
      ]
    },
    {
      "cell_type": "markdown",
      "metadata": {
        "id": "JgLWgvpsfj1U",
        "colab_type": "text"
      },
      "source": [
        "###Example\n",
        "Print each adjective for every fruit:"
      ]
    },
    {
      "cell_type": "code",
      "metadata": {
        "id": "FGT6RjdLfg-a",
        "colab_type": "code",
        "colab": {}
      },
      "source": [
        "adj = [\"red\", \"big\", \"tasty\"]\n",
        "fruits = [\"apple\", \"banana\", \"cherry\"]\n",
        "\n",
        "for x in adj:\n",
        "  for y in fruits:\n",
        "    print(x, y)"
      ],
      "execution_count": null,
      "outputs": []
    }
  ]
}